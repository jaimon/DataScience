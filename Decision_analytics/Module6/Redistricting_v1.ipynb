{
 "cells": [
  {
   "cell_type": "code",
   "execution_count": 1,
   "metadata": {},
   "outputs": [],
   "source": [
    "# import libraries\n",
    "import numpy as np\n",
    "import geopandas as gpd   \n",
    "import pandas as pd \n",
    "from math import pi, pow, sin, cos, asin, sqrt, floor\n",
    "from pulp import *"
   ]
  },
  {
   "cell_type": "code",
   "execution_count": 2,
   "metadata": {},
   "outputs": [],
   "source": [
    "def degrees_to_radians(x):\n",
    "     return((pi / 180) * x)"
   ]
  },
  {
   "cell_type": "code",
   "execution_count": 3,
   "metadata": {},
   "outputs": [],
   "source": [
    "def lon_lat_distance_miles(lon_a, lat_a, lon_b, lat_b):\n",
    "    radius_of_earth = 24872 / (2 * pi)\n",
    "    c = sin((degrees_to_radians(lat_a) - \\\n",
    "    degrees_to_radians(lat_b)) / 2)**2 + \\\n",
    "    cos(degrees_to_radians(lat_a)) * \\\n",
    "    cos(degrees_to_radians(lat_b)) * \\\n",
    "    sin((degrees_to_radians(lon_a) - \\\n",
    "    degrees_to_radians(lon_b))/2)**2\n",
    "    return(2 * radius_of_earth * (asin(sqrt(c)))) "
   ]
  },
  {
   "cell_type": "code",
   "execution_count": 4,
   "metadata": {},
   "outputs": [],
   "source": [
    "def lon_lat_distance_meters (lon_a, lat_a, lon_b, lat_b):\n",
    "    return(lon_lat_distance_miles(lon_a, lat_a, lon_b, lat_b) * 1609.34)\n"
   ]
  },
  {
   "cell_type": "code",
   "execution_count": 5,
   "metadata": {},
   "outputs": [],
   "source": [
    "# read in file with county id, county names, latitudes, longitudes, and populations\n",
    "file_path = '/Users/Jai/Documents/Git_remote/Decision_analytics/Module6/michigan_counties.xlsx'\n",
    "michigan_counties = pd.read_excel(file_path, index_col = None)\n"
   ]
  },
  {
   "cell_type": "code",
   "execution_count": 6,
   "metadata": {},
   "outputs": [
    {
     "data": {
      "text/html": [
       "<div>\n",
       "<style scoped>\n",
       "    .dataframe tbody tr th:only-of-type {\n",
       "        vertical-align: middle;\n",
       "    }\n",
       "\n",
       "    .dataframe tbody tr th {\n",
       "        vertical-align: top;\n",
       "    }\n",
       "\n",
       "    .dataframe thead th {\n",
       "        text-align: right;\n",
       "    }\n",
       "</style>\n",
       "<table border=\"1\" class=\"dataframe\">\n",
       "  <thead>\n",
       "    <tr style=\"text-align: right;\">\n",
       "      <th></th>\n",
       "      <th>count_id</th>\n",
       "      <th>county_names</th>\n",
       "      <th>latitude</th>\n",
       "      <th>longitude</th>\n",
       "      <th>pop2020</th>\n",
       "    </tr>\n",
       "  </thead>\n",
       "  <tbody>\n",
       "    <tr>\n",
       "      <th>0</th>\n",
       "      <td>0</td>\n",
       "      <td>Leelanau</td>\n",
       "      <td>45.151771</td>\n",
       "      <td>-86.038496</td>\n",
       "      <td>22870</td>\n",
       "    </tr>\n",
       "    <tr>\n",
       "      <th>1</th>\n",
       "      <td>1</td>\n",
       "      <td>Clinton</td>\n",
       "      <td>42.943652</td>\n",
       "      <td>-84.601517</td>\n",
       "      <td>79748</td>\n",
       "    </tr>\n",
       "    <tr>\n",
       "      <th>2</th>\n",
       "      <td>2</td>\n",
       "      <td>Wexford</td>\n",
       "      <td>44.338367</td>\n",
       "      <td>-85.578414</td>\n",
       "      <td>34196</td>\n",
       "    </tr>\n",
       "    <tr>\n",
       "      <th>3</th>\n",
       "      <td>3</td>\n",
       "      <td>Branch</td>\n",
       "      <td>41.916119</td>\n",
       "      <td>-85.059044</td>\n",
       "      <td>44531</td>\n",
       "    </tr>\n",
       "    <tr>\n",
       "      <th>4</th>\n",
       "      <td>4</td>\n",
       "      <td>Ionia</td>\n",
       "      <td>42.945094</td>\n",
       "      <td>-85.074603</td>\n",
       "      <td>66809</td>\n",
       "    </tr>\n",
       "  </tbody>\n",
       "</table>\n",
       "</div>"
      ],
      "text/plain": [
       "   count_id county_names   latitude  longitude  pop2020\n",
       "0         0     Leelanau  45.151771 -86.038496    22870\n",
       "1         1      Clinton  42.943652 -84.601517    79748\n",
       "2         2      Wexford  44.338367 -85.578414    34196\n",
       "3         3       Branch  41.916119 -85.059044    44531\n",
       "4         4        Ionia  42.945094 -85.074603    66809"
      ]
     },
     "execution_count": 6,
     "metadata": {},
     "output_type": "execute_result"
    }
   ],
   "source": [
    "michigan_counties.head()"
   ]
  },
  {
   "cell_type": "code",
   "execution_count": 7,
   "metadata": {},
   "outputs": [
    {
     "data": {
      "text/plain": [
       "(83, 5)"
      ]
     },
     "execution_count": 7,
     "metadata": {},
     "output_type": "execute_result"
    }
   ],
   "source": [
    "michigan_counties.shape"
   ]
  },
  {
   "cell_type": "code",
   "execution_count": 8,
   "metadata": {},
   "outputs": [],
   "source": [
    "# remove population to allow easy joining of long and lat for each county pair\n",
    "lat_lon = ['county_names', 'latitude', 'longitude']\n",
    "lat_lon = michigan_counties[lat_lon]\n"
   ]
  },
  {
   "cell_type": "code",
   "execution_count": 9,
   "metadata": {},
   "outputs": [
    {
     "data": {
      "text/html": [
       "<div>\n",
       "<style scoped>\n",
       "    .dataframe tbody tr th:only-of-type {\n",
       "        vertical-align: middle;\n",
       "    }\n",
       "\n",
       "    .dataframe tbody tr th {\n",
       "        vertical-align: top;\n",
       "    }\n",
       "\n",
       "    .dataframe thead th {\n",
       "        text-align: right;\n",
       "    }\n",
       "</style>\n",
       "<table border=\"1\" class=\"dataframe\">\n",
       "  <thead>\n",
       "    <tr style=\"text-align: right;\">\n",
       "      <th></th>\n",
       "      <th>county_names</th>\n",
       "      <th>latitude</th>\n",
       "      <th>longitude</th>\n",
       "    </tr>\n",
       "  </thead>\n",
       "  <tbody>\n",
       "    <tr>\n",
       "      <th>0</th>\n",
       "      <td>Leelanau</td>\n",
       "      <td>45.151771</td>\n",
       "      <td>-86.038496</td>\n",
       "    </tr>\n",
       "    <tr>\n",
       "      <th>1</th>\n",
       "      <td>Clinton</td>\n",
       "      <td>42.943652</td>\n",
       "      <td>-84.601517</td>\n",
       "    </tr>\n",
       "    <tr>\n",
       "      <th>2</th>\n",
       "      <td>Wexford</td>\n",
       "      <td>44.338367</td>\n",
       "      <td>-85.578414</td>\n",
       "    </tr>\n",
       "    <tr>\n",
       "      <th>3</th>\n",
       "      <td>Branch</td>\n",
       "      <td>41.916119</td>\n",
       "      <td>-85.059044</td>\n",
       "    </tr>\n",
       "    <tr>\n",
       "      <th>4</th>\n",
       "      <td>Ionia</td>\n",
       "      <td>42.945094</td>\n",
       "      <td>-85.074603</td>\n",
       "    </tr>\n",
       "    <tr>\n",
       "      <th>...</th>\n",
       "      <td>...</td>\n",
       "      <td>...</td>\n",
       "      <td>...</td>\n",
       "    </tr>\n",
       "    <tr>\n",
       "      <th>78</th>\n",
       "      <td>Lapeer</td>\n",
       "      <td>43.090147</td>\n",
       "      <td>-83.221784</td>\n",
       "    </tr>\n",
       "    <tr>\n",
       "      <th>79</th>\n",
       "      <td>Arenac</td>\n",
       "      <td>44.042885</td>\n",
       "      <td>-83.747242</td>\n",
       "    </tr>\n",
       "    <tr>\n",
       "      <th>80</th>\n",
       "      <td>Charlevoix</td>\n",
       "      <td>45.502498</td>\n",
       "      <td>-85.373250</td>\n",
       "    </tr>\n",
       "    <tr>\n",
       "      <th>81</th>\n",
       "      <td>Alcona</td>\n",
       "      <td>44.683623</td>\n",
       "      <td>-83.129008</td>\n",
       "    </tr>\n",
       "    <tr>\n",
       "      <th>82</th>\n",
       "      <td>Livingston</td>\n",
       "      <td>42.602917</td>\n",
       "      <td>-83.911528</td>\n",
       "    </tr>\n",
       "  </tbody>\n",
       "</table>\n",
       "<p>83 rows × 3 columns</p>\n",
       "</div>"
      ],
      "text/plain": [
       "   county_names   latitude  longitude\n",
       "0      Leelanau  45.151771 -86.038496\n",
       "1       Clinton  42.943652 -84.601517\n",
       "2       Wexford  44.338367 -85.578414\n",
       "3        Branch  41.916119 -85.059044\n",
       "4         Ionia  42.945094 -85.074603\n",
       "..          ...        ...        ...\n",
       "78       Lapeer  43.090147 -83.221784\n",
       "79       Arenac  44.042885 -83.747242\n",
       "80   Charlevoix  45.502498 -85.373250\n",
       "81       Alcona  44.683623 -83.129008\n",
       "82   Livingston  42.602917 -83.911528\n",
       "\n",
       "[83 rows x 3 columns]"
      ]
     },
     "execution_count": 9,
     "metadata": {},
     "output_type": "execute_result"
    }
   ],
   "source": [
    "lat_lon"
   ]
  },
  {
   "cell_type": "code",
   "execution_count": 11,
   "metadata": {},
   "outputs": [],
   "source": [
    "# create list of county names for pairing        \n",
    "county_names = michigan_counties['county_names'].to_numpy()\n"
   ]
  },
  {
   "cell_type": "code",
   "execution_count": 12,
   "metadata": {},
   "outputs": [
    {
     "data": {
      "text/plain": [
       "array(['Leelanau', 'Clinton', 'Wexford', 'Branch', 'Ionia', 'Mecosta',\n",
       "       'Keweenaw', 'Isabella', 'Schoolcraft', 'Crawford', 'St. Clair',\n",
       "       'Missaukee', 'Presque Isle', 'Saginaw', 'Houghton', 'Van Buren',\n",
       "       'Ottawa', 'Berrien', 'Montmorency', 'Shiawassee', 'Otsego',\n",
       "       'Lenawee', 'Newaygo', 'Roscommon', 'Marquette', 'Alger', 'Iron',\n",
       "       'Barry', 'Emmet', 'Osceola', 'Antrim', 'Jackson', 'Manistee',\n",
       "       'Calhoun', 'Tuscola', 'Gladwin', 'Menominee', 'Ontonagon',\n",
       "       'Gogebic', 'Macomb', 'Midland', 'Kent', 'St. Joseph', 'Ogemaw',\n",
       "       'Oceana', 'Iosco', 'Alpena', 'Sanilac', 'Oscoda', 'Washtenaw',\n",
       "       'Kalamazoo', 'Ingham', 'Dickinson', 'Bay', 'Benzie', 'Huron',\n",
       "       'Clare', 'Luce', 'Genesee', 'Montcalm', 'Cheboygan', 'Eaton',\n",
       "       'Chippewa', 'Lake', 'Kalkaska', 'Mason', 'Mackinac', 'Oakland',\n",
       "       'Monroe', 'Allegan', 'Wayne', 'Muskegon', 'Gratiot',\n",
       "       'Grand Traverse', 'Baraga', 'Delta', 'Hillsdale', 'Cass', 'Lapeer',\n",
       "       'Arenac', 'Charlevoix', 'Alcona', 'Livingston'], dtype=object)"
      ]
     },
     "execution_count": 12,
     "metadata": {},
     "output_type": "execute_result"
    }
   ],
   "source": [
    "county_names"
   ]
  },
  {
   "cell_type": "code",
   "execution_count": 13,
   "metadata": {},
   "outputs": [],
   "source": [
    "# create each unique pair\n",
    "pairs = []\n",
    "\n",
    "for i in range(len(county_names)):\n",
    "    for j in range(i + 1, len(county_names)):\n",
    "        pairs.append((county_names[i], county_names[j]))\n",
    "\n",
    "col_names = ['county_1', 'county_2']\n",
    "                \n",
    "county_pairs = pd.DataFrame(pairs, columns = col_names)"
   ]
  },
  {
   "cell_type": "code",
   "execution_count": 14,
   "metadata": {},
   "outputs": [
    {
     "data": {
      "text/html": [
       "<div>\n",
       "<style scoped>\n",
       "    .dataframe tbody tr th:only-of-type {\n",
       "        vertical-align: middle;\n",
       "    }\n",
       "\n",
       "    .dataframe tbody tr th {\n",
       "        vertical-align: top;\n",
       "    }\n",
       "\n",
       "    .dataframe thead th {\n",
       "        text-align: right;\n",
       "    }\n",
       "</style>\n",
       "<table border=\"1\" class=\"dataframe\">\n",
       "  <thead>\n",
       "    <tr style=\"text-align: right;\">\n",
       "      <th></th>\n",
       "      <th>county_1</th>\n",
       "      <th>county_2</th>\n",
       "    </tr>\n",
       "  </thead>\n",
       "  <tbody>\n",
       "    <tr>\n",
       "      <th>0</th>\n",
       "      <td>Leelanau</td>\n",
       "      <td>Clinton</td>\n",
       "    </tr>\n",
       "    <tr>\n",
       "      <th>1</th>\n",
       "      <td>Leelanau</td>\n",
       "      <td>Wexford</td>\n",
       "    </tr>\n",
       "    <tr>\n",
       "      <th>2</th>\n",
       "      <td>Leelanau</td>\n",
       "      <td>Branch</td>\n",
       "    </tr>\n",
       "    <tr>\n",
       "      <th>3</th>\n",
       "      <td>Leelanau</td>\n",
       "      <td>Ionia</td>\n",
       "    </tr>\n",
       "    <tr>\n",
       "      <th>4</th>\n",
       "      <td>Leelanau</td>\n",
       "      <td>Mecosta</td>\n",
       "    </tr>\n",
       "    <tr>\n",
       "      <th>...</th>\n",
       "      <td>...</td>\n",
       "      <td>...</td>\n",
       "    </tr>\n",
       "    <tr>\n",
       "      <th>3398</th>\n",
       "      <td>Arenac</td>\n",
       "      <td>Alcona</td>\n",
       "    </tr>\n",
       "    <tr>\n",
       "      <th>3399</th>\n",
       "      <td>Arenac</td>\n",
       "      <td>Livingston</td>\n",
       "    </tr>\n",
       "    <tr>\n",
       "      <th>3400</th>\n",
       "      <td>Charlevoix</td>\n",
       "      <td>Alcona</td>\n",
       "    </tr>\n",
       "    <tr>\n",
       "      <th>3401</th>\n",
       "      <td>Charlevoix</td>\n",
       "      <td>Livingston</td>\n",
       "    </tr>\n",
       "    <tr>\n",
       "      <th>3402</th>\n",
       "      <td>Alcona</td>\n",
       "      <td>Livingston</td>\n",
       "    </tr>\n",
       "  </tbody>\n",
       "</table>\n",
       "<p>3403 rows × 2 columns</p>\n",
       "</div>"
      ],
      "text/plain": [
       "        county_1    county_2\n",
       "0       Leelanau     Clinton\n",
       "1       Leelanau     Wexford\n",
       "2       Leelanau      Branch\n",
       "3       Leelanau       Ionia\n",
       "4       Leelanau     Mecosta\n",
       "...          ...         ...\n",
       "3398      Arenac      Alcona\n",
       "3399      Arenac  Livingston\n",
       "3400  Charlevoix      Alcona\n",
       "3401  Charlevoix  Livingston\n",
       "3402      Alcona  Livingston\n",
       "\n",
       "[3403 rows x 2 columns]"
      ]
     },
     "execution_count": 14,
     "metadata": {},
     "output_type": "execute_result"
    }
   ],
   "source": [
    "county_pairs"
   ]
  },
  {
   "cell_type": "code",
   "execution_count": 15,
   "metadata": {},
   "outputs": [
    {
     "data": {
      "text/html": [
       "<div>\n",
       "<style scoped>\n",
       "    .dataframe tbody tr th:only-of-type {\n",
       "        vertical-align: middle;\n",
       "    }\n",
       "\n",
       "    .dataframe tbody tr th {\n",
       "        vertical-align: top;\n",
       "    }\n",
       "\n",
       "    .dataframe thead th {\n",
       "        text-align: right;\n",
       "    }\n",
       "</style>\n",
       "<table border=\"1\" class=\"dataframe\">\n",
       "  <thead>\n",
       "    <tr style=\"text-align: right;\">\n",
       "      <th></th>\n",
       "      <th>geo_point_2d</th>\n",
       "      <th>geoid</th>\n",
       "      <th>name</th>\n",
       "      <th>stusab</th>\n",
       "      <th>intptlat</th>\n",
       "      <th>intptlon</th>\n",
       "      <th>geometry</th>\n",
       "      <th>latitude</th>\n",
       "      <th>longitude</th>\n",
       "      <th>pop2020</th>\n",
       "    </tr>\n",
       "  </thead>\n",
       "  <tbody>\n",
       "    <tr>\n",
       "      <th>0</th>\n",
       "      <td>{'lon': -86.0384960523, 'lat': 45.151770859}</td>\n",
       "      <td>26089</td>\n",
       "      <td>Leelanau</td>\n",
       "      <td>MI</td>\n",
       "      <td>+45.1461816</td>\n",
       "      <td>-086.0515740</td>\n",
       "      <td>POLYGON ((-85.56175 44.95226, -85.56209 44.950...</td>\n",
       "      <td>45.151771</td>\n",
       "      <td>-86.038496</td>\n",
       "      <td>22870</td>\n",
       "    </tr>\n",
       "    <tr>\n",
       "      <th>1</th>\n",
       "      <td>{'lon': -84.6015165533, 'lat': 42.9436523662}</td>\n",
       "      <td>26037</td>\n",
       "      <td>Clinton</td>\n",
       "      <td>MI</td>\n",
       "      <td>+42.9504550</td>\n",
       "      <td>-084.5916949</td>\n",
       "      <td>POLYGON ((-84.83762 43.03264, -84.83754 43.032...</td>\n",
       "      <td>42.943652</td>\n",
       "      <td>-84.601517</td>\n",
       "      <td>79748</td>\n",
       "    </tr>\n",
       "    <tr>\n",
       "      <th>2</th>\n",
       "      <td>{'lon': -85.5784138137, 'lat': 44.3383668115}</td>\n",
       "      <td>26165</td>\n",
       "      <td>Wexford</td>\n",
       "      <td>MI</td>\n",
       "      <td>+44.3313751</td>\n",
       "      <td>-085.5700462</td>\n",
       "      <td>POLYGON ((-85.81909 44.42450, -85.81910 44.425...</td>\n",
       "      <td>44.338367</td>\n",
       "      <td>-85.578414</td>\n",
       "      <td>34196</td>\n",
       "    </tr>\n",
       "    <tr>\n",
       "      <th>3</th>\n",
       "      <td>{'lon': -85.0590443604, 'lat': 41.9161186535}</td>\n",
       "      <td>26023</td>\n",
       "      <td>Branch</td>\n",
       "      <td>MI</td>\n",
       "      <td>+41.9184551</td>\n",
       "      <td>-085.0668852</td>\n",
       "      <td>POLYGON ((-85.29293 41.98482, -85.29293 41.984...</td>\n",
       "      <td>41.916119</td>\n",
       "      <td>-85.059044</td>\n",
       "      <td>44531</td>\n",
       "    </tr>\n",
       "    <tr>\n",
       "      <th>4</th>\n",
       "      <td>{'lon': -85.0746031181, 'lat': 42.9450938315}</td>\n",
       "      <td>26067</td>\n",
       "      <td>Ionia</td>\n",
       "      <td>MI</td>\n",
       "      <td>+42.9446503</td>\n",
       "      <td>-085.0737660</td>\n",
       "      <td>POLYGON ((-85.07503 43.12021, -85.06470 43.120...</td>\n",
       "      <td>42.945094</td>\n",
       "      <td>-85.074603</td>\n",
       "      <td>66809</td>\n",
       "    </tr>\n",
       "  </tbody>\n",
       "</table>\n",
       "</div>"
      ],
      "text/plain": [
       "                                    geo_point_2d  geoid      name stusab  \\\n",
       "0   {'lon': -86.0384960523, 'lat': 45.151770859}  26089  Leelanau     MI   \n",
       "1  {'lon': -84.6015165533, 'lat': 42.9436523662}  26037   Clinton     MI   \n",
       "2  {'lon': -85.5784138137, 'lat': 44.3383668115}  26165   Wexford     MI   \n",
       "3  {'lon': -85.0590443604, 'lat': 41.9161186535}  26023    Branch     MI   \n",
       "4  {'lon': -85.0746031181, 'lat': 42.9450938315}  26067     Ionia     MI   \n",
       "\n",
       "      intptlat      intptlon  \\\n",
       "0  +45.1461816  -086.0515740   \n",
       "1  +42.9504550  -084.5916949   \n",
       "2  +44.3313751  -085.5700462   \n",
       "3  +41.9184551  -085.0668852   \n",
       "4  +42.9446503  -085.0737660   \n",
       "\n",
       "                                            geometry   latitude  longitude  \\\n",
       "0  POLYGON ((-85.56175 44.95226, -85.56209 44.950...  45.151771 -86.038496   \n",
       "1  POLYGON ((-84.83762 43.03264, -84.83754 43.032...  42.943652 -84.601517   \n",
       "2  POLYGON ((-85.81909 44.42450, -85.81910 44.425...  44.338367 -85.578414   \n",
       "3  POLYGON ((-85.29293 41.98482, -85.29293 41.984...  41.916119 -85.059044   \n",
       "4  POLYGON ((-85.07503 43.12021, -85.06470 43.120...  42.945094 -85.074603   \n",
       "\n",
       "   pop2020  \n",
       "0    22870  \n",
       "1    79748  \n",
       "2    34196  \n",
       "3    44531  \n",
       "4    66809  "
      ]
     },
     "execution_count": 15,
     "metadata": {},
     "output_type": "execute_result"
    }
   ],
   "source": [
    "# read in shapefile\n",
    "file_path = '/Users/Jai/Documents/Git_remote/Decision_analytics/Module6/michigan_counties.geojson'\n",
    "shapefile_michigan = gpd.read_file(file_path)\n",
    "map_population_by_county_data = shapefile_michigan.merge(michigan_counties, left_on = 'name', right_on = 'county_names', suffixes = ('_left', '_right'))\n",
    "\n",
    "# drop unwanted columns\n",
    "drop_cols = ['statefp', 'countyfp', 'countyns', 'namelsad', 'lsad', 'csafp', 'classfp', 'metdivfp', 'mtfcc', 'cbsafp', 'state_name', 'countyfp_nozero', 'count_id', 'county_names', 'aland', 'awater', 'funcstat']\n",
    "map_population_by_county_data = map_population_by_county_data.drop(columns = drop_cols)\n",
    "\n",
    "# check population df; believe that 'geometry' is what's used to create the shape of the state in gpd\n",
    "map_population_by_county_data.head()\n"
   ]
  },
  {
   "cell_type": "code",
   "execution_count": 17,
   "metadata": {},
   "outputs": [],
   "source": [
    "\n",
    "# model variables\n",
    "n_counties = 83\n",
    "n_districts = 14\n",
    "\n",
    "#n_counties = michigan_counties['county_names'].nunique()\n",
    "\n",
    "#n_districts = districts['district_name'].nunique()\n"
   ]
  },
  {
   "cell_type": "code",
   "execution_count": 26,
   "metadata": {},
   "outputs": [],
   "source": [
    "model = LpProblem('Compacted-Redistricting', LpMinimize) \n",
    "\n"
   ]
  },
  {
   "cell_type": "code",
   "execution_count": null,
   "metadata": {},
   "outputs": [],
   "source": [
    "# Decision variable: x[i][j] is 1 if county i is assigned to district j, 0 otherwise\n",
    "x = [[LpVariable(f\"x_{i}_{j}\", cat=\"Binary\") for j in range(n_districts)] for i in range(n_counties)]\n",
    "x"
   ]
  },
  {
   "cell_type": "code",
   "execution_count": 35,
   "metadata": {},
   "outputs": [],
   "source": [
    "# Objective: Minimize the number of counties that are assigned to multiple districts\n",
    "model += lpSum(x[i][j] for i in range(n_counties) for j in range(n_districts)) - n_counties\n"
   ]
  },
  {
   "cell_type": "code",
   "execution_count": 36,
   "metadata": {},
   "outputs": [],
   "source": [
    "# Constraint: Each county is assigned to exactly one district\n",
    "for i in range(n_counties):\n",
    "    model += lpSum(x[i][j] for j in range(n_districts)) == 1\n"
   ]
  },
  {
   "cell_type": "code",
   "execution_count": 37,
   "metadata": {},
   "outputs": [
    {
     "name": "stdout",
     "output_type": "stream",
     "text": [
      "Welcome to the CBC MILP Solver \n",
      "Version: 2.10.3 \n",
      "Build Date: Dec 15 2019 \n",
      "\n",
      "command line - /Users/Jai/anaconda3/lib/python3.7/site-packages/pulp/apis/../solverdir/cbc/osx/64/cbc /var/folders/mg/gn4s4j_94_j8j560qd6pnnzm0000gp/T/632cf53d00c046f49a4f97f3d3fa8142-pulp.mps timeMode elapsed branch printingOptions all solution /var/folders/mg/gn4s4j_94_j8j560qd6pnnzm0000gp/T/632cf53d00c046f49a4f97f3d3fa8142-pulp.sol (default strategy 1)\n",
      "At line 2 NAME          MODEL\n",
      "At line 3 ROWS\n",
      "At line 88 COLUMNS\n",
      "At line 4737 RHS\n",
      "At line 4821 BOUNDS\n",
      "At line 5984 ENDATA\n",
      "Problem MODEL has 83 rows, 1162 columns and 1162 elements\n",
      "Coin0008I MODEL read with 0 errors\n",
      "Option for timeMode changed from cpu to elapsed\n",
      "Continuous objective value is 83 - 0.00 seconds\n",
      "Cgl0004I processed model has 0 rows, 0 columns (0 integer (0 of which binary)) and 0 elements\n",
      "Cbc3007W No integer variables - nothing to do\n",
      "Cuts at root node changed objective from 83 to -1.79769e+308\n",
      "Probing was tried 0 times and created 0 cuts of which 0 were active after adding rounds of cuts (0.000 seconds)\n",
      "Gomory was tried 0 times and created 0 cuts of which 0 were active after adding rounds of cuts (0.000 seconds)\n",
      "Knapsack was tried 0 times and created 0 cuts of which 0 were active after adding rounds of cuts (0.000 seconds)\n",
      "Clique was tried 0 times and created 0 cuts of which 0 were active after adding rounds of cuts (0.000 seconds)\n",
      "MixedIntegerRounding2 was tried 0 times and created 0 cuts of which 0 were active after adding rounds of cuts (0.000 seconds)\n",
      "FlowCover was tried 0 times and created 0 cuts of which 0 were active after adding rounds of cuts (0.000 seconds)\n",
      "TwoMirCuts was tried 0 times and created 0 cuts of which 0 were active after adding rounds of cuts (0.000 seconds)\n",
      "ZeroHalf was tried 0 times and created 0 cuts of which 0 were active after adding rounds of cuts (0.000 seconds)\n",
      "\n",
      "Result - Optimal solution found\n",
      "\n",
      "Objective value:                83.00000000\n",
      "Enumerated nodes:               0\n",
      "Total iterations:               0\n",
      "Time (CPU seconds):             0.00\n",
      "Time (Wallclock seconds):       0.02\n",
      "\n",
      "Option for printingOptions changed from normal to all\n",
      "Total time (CPU seconds):       0.01   (Wallclock seconds):       0.04\n",
      "\n"
     ]
    },
    {
     "data": {
      "text/plain": [
       "1"
      ]
     },
     "execution_count": 37,
     "metadata": {},
     "output_type": "execute_result"
    }
   ],
   "source": [
    "# Solve the problem\n",
    "model.solve()\n"
   ]
  },
  {
   "cell_type": "code",
   "execution_count": 38,
   "metadata": {},
   "outputs": [
    {
     "name": "stdout",
     "output_type": "stream",
     "text": [
      "District 1 contains counties: [1, 7, 11, 15, 16, 23, 28, 33, 34, 43, 45, 46, 55, 58, 59, 70, 77]\n",
      "District 2 contains counties: [0, 5, 6, 8, 13, 21, 22, 26, 27, 29, 30, 31, 37, 52, 53, 57, 65, 76, 79, 82]\n",
      "District 3 contains counties: []\n",
      "District 4 contains counties: [19, 47, 67]\n",
      "District 5 contains counties: [41, 42]\n",
      "District 6 contains counties: [24]\n",
      "District 7 contains counties: [49]\n",
      "District 8 contains counties: [9, 36, 73, 81]\n",
      "District 9 contains counties: [3, 14, 32, 38, 48, 56, 69, 75]\n",
      "District 10 contains counties: [2, 4, 10, 12, 17, 18, 20, 25, 35, 39, 40, 44, 50, 51, 54, 61, 62, 63, 64, 66, 68, 71, 72, 74, 78]\n",
      "District 11 contains counties: [60, 80]\n",
      "District 12 contains counties: []\n",
      "District 13 contains counties: []\n",
      "District 14 contains counties: []\n"
     ]
    }
   ],
   "source": [
    "\n",
    "# Print the results\n",
    "for j in range(n_districts):\n",
    "    district_counties = [i for i in range(n_counties) if x[i][j].varValue == 1]\n",
    "    print(f\"District {j+1} contains counties: {district_counties}\")"
   ]
  }
 ],
 "metadata": {
  "kernelspec": {
   "display_name": "base",
   "language": "python",
   "name": "python3"
  },
  "language_info": {
   "codemirror_mode": {
    "name": "ipython",
    "version": 3
   },
   "file_extension": ".py",
   "mimetype": "text/x-python",
   "name": "python",
   "nbconvert_exporter": "python",
   "pygments_lexer": "ipython3",
   "version": "3.7.3"
  },
  "orig_nbformat": 4
 },
 "nbformat": 4,
 "nbformat_minor": 2
}
