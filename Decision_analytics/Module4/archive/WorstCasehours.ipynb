{
 "cells": [
  {
   "cell_type": "code",
   "execution_count": 1,
   "metadata": {},
   "outputs": [
    {
     "name": "stderr",
     "output_type": "stream",
     "text": [
      "/Users/Jai/anaconda3/lib/python3.7/site-packages/pulp/pulp.py:1313: UserWarning: Spaces are not permitted in the name. Converted to '_'\n",
      "  warnings.warn(\"Spaces are not permitted in the name. Converted to '_'\")\n"
     ]
    }
   ],
   "source": [
    "from pulp import *\n",
    "\n",
    "# Create a LP minimization problem\n",
    "model = LpProblem(\"Project planning\", LpMinimize)\n"
   ]
  },
  {
   "cell_type": "code",
   "execution_count": 2,
   "metadata": {},
   "outputs": [],
   "source": [
    "# Define workers and their hourly rates\n",
    "workers = {\n",
    "    'ProjectManager': 72,  # Example hourly rate for the project manager\n",
    "    'FrontendDeveloper': 60,\n",
    "    'BackendDeveloper': 60,\n",
    "    'DataScientist': 58,\n",
    "    'DataEngineer': 72,\n",
    "}"
   ]
  },
  {
   "cell_type": "code",
   "execution_count": 3,
   "metadata": {},
   "outputs": [],
   "source": [
    "# Define tasks and their estimated times for different scenarios\n",
    "activities = {\n",
    "    'Describe product': {'WorstCaseHours': 6},\n",
    "    'Develop marketing strategy': {'WorstCaseHours': 16},\n",
    "    'Design brochure': {'WorstCaseHours': 14},\n",
    "    #'Develop product protoype': {'WorstCaseHours': 80},\n",
    "    'Requirements analysis': {'WorstCaseHours': 10},\n",
    "    'Software design': {'WorstCaseHours': 16},\n",
    "    'System design':{'WorstCaseHours': 16}, \n",
    "    'Coding': {'WorstCaseHours': 40},\n",
    "    'Write documentation': {'WorstCaseHours': 20},\n",
    "    'Unit testing': {'WorstCaseHours': 20},\n",
    "    'System testing': {'WorstCaseHours': 24},\n",
    "    'Package deliverables': {'WorstCaseHours': 8},\n",
    "    'Survey potential market': {'WorstCaseHours': 20},\n",
    "    'Develop pricing plan': {'WorstCaseHours': 12},\n",
    "    'Develop implementation  plan': {'WorstCaseHours': 16},\n",
    "    'Write client proposal': {'WorstCaseHours': 8}\n",
    "\n",
    "}\n"
   ]
  },
  {
   "cell_type": "code",
   "execution_count": 4,
   "metadata": {},
   "outputs": [],
   "source": [
    "# Create a list of the activities\n",
    "activities_list = list(activities.keys())\n"
   ]
  },
  {
   "cell_type": "code",
   "execution_count": 5,
   "metadata": {},
   "outputs": [],
   "source": [
    "# Create a dictionary of the activity precedences\n",
    "precedences = {\n",
    "            'Describe product': [],\n",
    "            'Develop marketing strategy': [], \n",
    "            'Design brochure': ['Describe product'], \n",
    "            #'Develop product protoype': [],  \n",
    "            'Requirements analysis': ['Describe product'], \n",
    "            'Software design': ['Requirements analysis'], \n",
    "            'System design': ['Requirements analysis'], \n",
    "            'Coding': ['Software design','System design'],\n",
    "            'Write documentation': ['Coding'],\n",
    "            'Unit testing': ['Coding'],\n",
    "            'System testing' : ['Unit testing'],\n",
    "            'Package deliverables': ['Write documentation','System testing'],\n",
    "            'Survey potential market':['Develop marketing strategy','Design brochure'],\n",
    "            'Develop pricing plan': ['Package deliverables','Survey potential market'],\n",
    "            'Develop implementation  plan': ['Describe product','Package deliverables'],\n",
    "            'Write client proposal': ['Develop pricing plan','Develop implementation  plan']\n",
    "            }\n"
   ]
  },
  {
   "cell_type": "code",
   "execution_count": 6,
   "metadata": {},
   "outputs": [],
   "source": [
    "# Define decision variables\n",
    "x = pulp.LpVariable.dicts(\"Hours\", [(worker, task) for worker in workers for task in activities],\n",
    "                           lowBound=0)\n"
   ]
  },
  {
   "cell_type": "code",
   "execution_count": 7,
   "metadata": {},
   "outputs": [],
   "source": [
    "#Objective function\n",
    "model += pulp.lpSum(x[(worker, task)] * activities[task]['WorstCaseHours'] for worker in workers for task in activities)"
   ]
  },
  {
   "cell_type": "code",
   "execution_count": 8,
   "metadata": {},
   "outputs": [],
   "source": [
    "#Constraints\n",
    "for task in activities:\n",
    "    model += pulp.lpSum(x[(worker, task)] for worker in workers) >= activities[task]['WorstCaseHours']\n",
    "\n",
    "# Ensure that workers are available\n",
    "# Example: Assuming 160 hours of work per worker\n",
    "#for worker in workers:\n",
    "   # model += pulp.lpSum(x[(worker, task)] for task in activities) <= 160\n"
   ]
  },
  {
   "cell_type": "code",
   "execution_count": 9,
   "metadata": {},
   "outputs": [
    {
     "name": "stdout",
     "output_type": "stream",
     "text": [
      "Welcome to the CBC MILP Solver \n",
      "Version: 2.10.3 \n",
      "Build Date: Dec 15 2019 \n",
      "\n",
      "command line - /Users/Jai/anaconda3/lib/python3.7/site-packages/pulp/apis/../solverdir/cbc/osx/64/cbc /var/folders/mg/gn4s4j_94_j8j560qd6pnnzm0000gp/T/b699fb5e65a34953982050bcfe069994-pulp.mps timeMode elapsed branch printingOptions all solution /var/folders/mg/gn4s4j_94_j8j560qd6pnnzm0000gp/T/b699fb5e65a34953982050bcfe069994-pulp.sol (default strategy 1)\n",
      "At line 2 NAME          MODEL\n",
      "At line 3 ROWS\n",
      "At line 20 COLUMNS\n",
      "At line 171 RHS\n",
      "At line 187 BOUNDS\n",
      "At line 188 ENDATA\n",
      "Problem MODEL has 15 rows, 75 columns and 75 elements\n",
      "Coin0008I MODEL read with 0 errors\n",
      "Option for timeMode changed from cpu to elapsed\n",
      "Presolve 0 (-15) rows, 0 (-75) columns and 0 (-75) elements\n",
      "Empty problem - 0 rows, 0 columns and 0 elements\n",
      "Optimal - objective value 5004\n",
      "After Postsolve, objective 5004, infeasibilities - dual 0 (0), primal 0 (0)\n",
      "Optimal objective 5004 - 0 iterations time 0.002, Presolve 0.00\n",
      "Option for printingOptions changed from normal to all\n",
      "Total time (CPU seconds):       0.00   (Wallclock seconds):       0.01\n",
      "\n",
      "ProjectManager works 16.0 hours on Develop marketing strategy\n",
      "ProjectManager works 20.0 hours on Write documentation\n",
      "ProjectManager works 12.0 hours on Develop pricing plan\n",
      "ProjectManager works 8.0 hours on Write client proposal\n",
      "FrontendDeveloper works 10.0 hours on Requirements analysis\n",
      "FrontendDeveloper works 20.0 hours on Unit testing\n",
      "FrontendDeveloper works 8.0 hours on Package deliverables\n",
      "BackendDeveloper works 14.0 hours on Design brochure\n",
      "BackendDeveloper works 40.0 hours on Coding\n",
      "BackendDeveloper works 16.0 hours on Develop implementation  plan\n",
      "DataScientist works 6.0 hours on Describe product\n",
      "DataScientist works 16.0 hours on Software design\n",
      "DataEngineer works 16.0 hours on System design\n",
      "DataEngineer works 24.0 hours on System testing\n",
      "DataEngineer works 20.0 hours on Survey potential market\n",
      "Total WorstCaseHours: 5004.0\n"
     ]
    }
   ],
   "source": [
    "# Solve the linear programming problem\n",
    "model.solve()\n",
    "\n",
    "# Print the results\n",
    "for worker in workers:\n",
    "    for task in activities:\n",
    "        if x[(worker, task)].varValue > 0:\n",
    "            print(f\"{worker} works {x[(worker, task)].varValue} hours on {task}\")\n",
    "\n",
    "print(f\"Total WorstCaseHours: {pulp.value(model.objective)}\")\n"
   ]
  },
  {
   "cell_type": "code",
   "execution_count": 14,
   "metadata": {},
   "outputs": [],
   "source": [
    "# Create the LP problem\n",
    "prob = LpProblem(\"Critical Path\", LpMinimize)\n"
   ]
  },
  {
   "cell_type": "code",
   "execution_count": 15,
   "metadata": {},
   "outputs": [],
   "source": [
    "# Create the LP variables\n",
    "start_times = {activity: LpVariable(f\"start_{activity}\", 0, None) for activity in activities_list}\n",
    "end_times = {activity: LpVariable(f\"end_{activity}\", 0, None) for activity in activities_list}\n"
   ]
  },
  {
   "cell_type": "code",
   "execution_count": 16,
   "metadata": {},
   "outputs": [],
   "source": [
    "# Add the constraints\n",
    "for activity in activities_list:\n",
    "    prob += end_times[activity] == start_times[activity] + activities[activity], f\"{activity}_duration\"\n",
    "    for predecessor in precedences[activity]:\n",
    "        prob += start_times[activity] >= end_times[predecessor], f\"{activity}_predecessor_{predecessor}\"\n"
   ]
  },
  {
   "cell_type": "code",
   "execution_count": 17,
   "metadata": {},
   "outputs": [
    {
     "name": "stdout",
     "output_type": "stream",
     "text": [
      "Welcome to the CBC MILP Solver \n",
      "Version: 2.10.3 \n",
      "Build Date: Dec 15 2019 \n",
      "\n",
      "command line - /Users/Jai/anaconda3/lib/python3.7/site-packages/pulp/apis/../solverdir/cbc/osx/64/cbc /var/folders/mg/gn4s4j_94_j8j560qd6pnnzm0000gp/T/2cbb6862a8034d2cbe54d15b8c476373-pulp.mps timeMode elapsed branch printingOptions all solution /var/folders/mg/gn4s4j_94_j8j560qd6pnnzm0000gp/T/2cbb6862a8034d2cbe54d15b8c476373-pulp.sol (default strategy 1)\n",
      "At line 2 NAME          MODEL\n",
      "At line 3 ROWS\n",
      "At line 40 COLUMNS\n",
      "At line 127 RHS\n",
      "At line 163 BOUNDS\n",
      "At line 164 ENDATA\n",
      "Problem MODEL has 35 rows, 32 columns and 70 elements\n",
      "Coin0008I MODEL read with 0 errors\n",
      "Option for timeMode changed from cpu to elapsed\n",
      "Presolve 0 (-35) rows, 0 (-32) columns and 0 (-70) elements\n",
      "Empty problem - 0 rows, 0 columns and 0 elements\n",
      "Optimal - objective value 1162\n",
      "After Postsolve, objective 1162, infeasibilities - dual 0 (0), primal 0 (0)\n",
      "Optimal objective 1162 - 0 iterations time 0.002, Presolve 0.00\n",
      "Option for printingOptions changed from normal to all\n",
      "Total time (CPU seconds):       0.00   (Wallclock seconds):       0.01\n",
      "\n",
      "Critical Path time:\n",
      "Describe product starts at time 0\n",
      "Develop marketing strategy starts at time 0\n",
      "Develop product protoype starts at time 0\n",
      "Write client proposal ends at 148.0 days in duration\n",
      "\n",
      "Solution variable values:\n",
      "end_Coding = 72.0\n",
      "end_Describe_product = 6.0\n",
      "end_Design_brochure = 20.0\n",
      "end_Develop_implementation__plan = 140.0\n",
      "end_Develop_marketing_strategy = 16.0\n",
      "end_Develop_pricing_plan = 136.0\n",
      "end_Develop_product_protoype = 80.0\n",
      "end_Package_deliverables = 124.0\n",
      "end_Requirements_analysis = 16.0\n",
      "end_Software_design = 32.0\n",
      "end_Survey_potential_market = 40.0\n",
      "end_System_design = 32.0\n",
      "end_System_testing = 116.0\n",
      "end_Unit_testing = 92.0\n",
      "end_Write_client_proposal = 148.0\n",
      "end_Write_documentation = 92.0\n",
      "start_Coding = 32.0\n",
      "start_Describe_product = 0.0\n",
      "start_Design_brochure = 6.0\n",
      "start_Develop_implementation__plan = 124.0\n",
      "start_Develop_marketing_strategy = 0.0\n",
      "start_Develop_pricing_plan = 124.0\n",
      "start_Develop_product_protoype = 0.0\n",
      "start_Package_deliverables = 116.0\n",
      "start_Requirements_analysis = 6.0\n",
      "start_Software_design = 16.0\n",
      "start_Survey_potential_market = 20.0\n",
      "start_System_design = 16.0\n",
      "start_System_testing = 92.0\n",
      "start_Unit_testing = 72.0\n",
      "start_Write_client_proposal = 140.0\n",
      "start_Write_documentation = 72.0\n"
     ]
    }
   ],
   "source": [
    "# Set the objective function\n",
    "prob += lpSum([end_times[activity] for activity in activities_list]), \"minimize_end_times\"\n",
    "\n",
    "# Solve the LP problem\n",
    "status = prob.solve()\n",
    "\n",
    "# Print the results\n",
    "print(\"Critical Path time:\")\n",
    "for activity in activities_list:\n",
    "    if value(start_times[activity]) == 0:\n",
    "        print(f\"{activity} starts at time 0\")\n",
    "    if value(end_times[activity]) == max([value(end_times[activity]) for activity in activities_list]):\n",
    "        print(f\"{activity} ends at {value(end_times[activity])} days in duration\")\n",
    "\n",
    "# Print solution\n",
    "print(\"\\nSolution variable values:\")\n",
    "for var in prob.variables():\n",
    "    if var.name != \"_dummy\":\n",
    "        print(var.name, \"=\", var.varValue)"
   ]
  }
 ],
 "metadata": {
  "kernelspec": {
   "display_name": "base",
   "language": "python",
   "name": "python3"
  },
  "language_info": {
   "codemirror_mode": {
    "name": "ipython",
    "version": 3
   },
   "file_extension": ".py",
   "mimetype": "text/x-python",
   "name": "python",
   "nbconvert_exporter": "python",
   "pygments_lexer": "ipython3",
   "version": "3.7.3"
  },
  "orig_nbformat": 4
 },
 "nbformat": 4,
 "nbformat_minor": 2
}
