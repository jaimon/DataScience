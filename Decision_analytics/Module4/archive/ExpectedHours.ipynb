{
 "cells": [
  {
   "cell_type": "code",
   "execution_count": 1,
   "metadata": {},
   "outputs": [
    {
     "name": "stderr",
     "output_type": "stream",
     "text": [
      "/Users/Jai/anaconda3/lib/python3.7/site-packages/pulp/pulp.py:1313: UserWarning: Spaces are not permitted in the name. Converted to '_'\n",
      "  warnings.warn(\"Spaces are not permitted in the name. Converted to '_'\")\n"
     ]
    }
   ],
   "source": [
    "from pulp import *\n",
    "\n",
    "# Create a LP minimization problem\n",
    "model = LpProblem(\"Project planning\", LpMinimize)\n"
   ]
  },
  {
   "cell_type": "code",
   "execution_count": 2,
   "metadata": {},
   "outputs": [],
   "source": [
    "# Define workers and their hourly rates\n",
    "workers = {\n",
    "    'ProjectManager': 72,  # Example hourly rate for the project manager\n",
    "    'FrontendDeveloper': 60,\n",
    "    'BackendDeveloper': 60,\n",
    "    'DataScientist': 58,\n",
    "    'DataEngineer': 72,\n",
    "}"
   ]
  },
  {
   "cell_type": "code",
   "execution_count": 3,
   "metadata": {},
   "outputs": [],
   "source": [
    "# Define tasks and their estimated times for different scenarios\n",
    "activities = {\n",
    "    'Describe product': {'ExpectedTime': 4},\n",
    "    'Develop marketing strategy': {'ExpectedTime': 12},\n",
    "    'Design brochure': {'ExpectedTime': 10},\n",
    "    #'Develop product protoype': {'ExpectedTime': 60},\n",
    "    'Requirements analysis': {'ExpectedTime': 8},\n",
    "    'Software design': {'ExpectedTime': 12},\n",
    "    'System design':{'ExpectedTime': 12}, \n",
    "    'Coding': {'ExpectedTime': 30},\n",
    "    'Write documentation': {'ExpectedTime': 15},\n",
    "    'Unit testing': {'ExpectedTime': 15},\n",
    "    'System testing': {'ExpectedTime': 18},\n",
    "    'Package deliverables': {'ExpectedTime': 6},\n",
    "    'Survey potential market': {'ExpectedTime': 15},\n",
    "    'Develop pricing plan': {'ExpectedTime': 9},\n",
    "    'Develop implementation  plan': {'ExpectedTime': 12},\n",
    "    'Write client proposal': {'ExpectedTime': 6}\n",
    "}\n"
   ]
  },
  {
   "cell_type": "code",
   "execution_count": 4,
   "metadata": {},
   "outputs": [],
   "source": [
    "# Create a list of the activities\n",
    "activities_list = list(activities.keys())\n"
   ]
  },
  {
   "cell_type": "code",
   "execution_count": 5,
   "metadata": {},
   "outputs": [],
   "source": [
    "# Create a dictionary of the activity precedences\n",
    "precedences = {\n",
    "            'Describe product': [],\n",
    "            'Develop marketing strategy': [], \n",
    "            'Design brochure': ['Describe product'], \n",
    "            #'Develop product protoype': [],  \n",
    "            'Requirements analysis': ['Describe product'], \n",
    "            'Software design': ['Requirements analysis'], \n",
    "            'System design': ['Requirements analysis'], \n",
    "            'Coding': ['Software design','System design'],\n",
    "            'Write documentation': ['Coding'],\n",
    "            'Unit testing': ['Coding'],\n",
    "            'System testing' : ['Unit testing'],\n",
    "            'Package deliverables': ['Write documentation','System testing'],\n",
    "            'Survey potential market':['Develop marketing strategy','Design brochure'],\n",
    "            'Develop pricing plan': ['Package deliverables','Survey potential market'],\n",
    "            'Develop implementation  plan': ['Describe product','Package deliverables'],\n",
    "            'Write client proposal': ['Develop pricing plan','Develop implementation  plan']\n",
    "            }\n"
   ]
  },
  {
   "cell_type": "code",
   "execution_count": 6,
   "metadata": {},
   "outputs": [],
   "source": [
    "# Define decision variables\n",
    "x = pulp.LpVariable.dicts(\"Hours\", [(worker, task) for worker in workers for task in activities],\n",
    "                           lowBound=0)\n"
   ]
  },
  {
   "cell_type": "code",
   "execution_count": 7,
   "metadata": {},
   "outputs": [],
   "source": [
    "#Objective function\n",
    "model += pulp.lpSum(x[(worker, task)] * activities[task]['ExpectedTime'] for worker in workers for task in activities)"
   ]
  },
  {
   "cell_type": "code",
   "execution_count": 8,
   "metadata": {},
   "outputs": [],
   "source": [
    "#Constraints\n",
    "for task in activities:\n",
    "    model += pulp.lpSum(x[(worker, task)] for worker in workers) >= activities[task]['ExpectedTime']\n",
    "\n",
    "# Ensure that workers are available\n",
    "# Example: Assuming 160 hours of work per worker\n",
    "#for worker in workers:\n",
    "    #model += pulp.lpSum(x[(worker, task)] for task in activities) <= 160\n"
   ]
  },
  {
   "cell_type": "code",
   "execution_count": 9,
   "metadata": {},
   "outputs": [
    {
     "name": "stdout",
     "output_type": "stream",
     "text": [
      "Welcome to the CBC MILP Solver \n",
      "Version: 2.10.3 \n",
      "Build Date: Dec 15 2019 \n",
      "\n",
      "command line - /Users/Jai/anaconda3/lib/python3.7/site-packages/pulp/apis/../solverdir/cbc/osx/64/cbc /var/folders/mg/gn4s4j_94_j8j560qd6pnnzm0000gp/T/05dedc5e478e4ca488ad1a1c05a72448-pulp.mps timeMode elapsed branch printingOptions all solution /var/folders/mg/gn4s4j_94_j8j560qd6pnnzm0000gp/T/05dedc5e478e4ca488ad1a1c05a72448-pulp.sol (default strategy 1)\n",
      "At line 2 NAME          MODEL\n",
      "At line 3 ROWS\n",
      "At line 20 COLUMNS\n",
      "At line 171 RHS\n",
      "At line 187 BOUNDS\n",
      "At line 188 ENDATA\n",
      "Problem MODEL has 15 rows, 75 columns and 75 elements\n",
      "Coin0008I MODEL read with 0 errors\n",
      "Option for timeMode changed from cpu to elapsed\n",
      "Presolve 0 (-15) rows, 0 (-75) columns and 0 (-75) elements\n",
      "Empty problem - 0 rows, 0 columns and 0 elements\n",
      "Optimal - objective value 2808\n",
      "After Postsolve, objective 2808, infeasibilities - dual 0 (0), primal 0 (0)\n",
      "Optimal objective 2808 - 0 iterations time 0.002, Presolve 0.00\n",
      "Option for printingOptions changed from normal to all\n",
      "Total time (CPU seconds):       0.00   (Wallclock seconds):       0.01\n",
      "\n",
      "ProjectManager works 12.0 hours on Develop marketing strategy\n",
      "ProjectManager works 15.0 hours on Write documentation\n",
      "ProjectManager works 9.0 hours on Develop pricing plan\n",
      "ProjectManager works 6.0 hours on Write client proposal\n",
      "FrontendDeveloper works 8.0 hours on Requirements analysis\n",
      "FrontendDeveloper works 15.0 hours on Unit testing\n",
      "FrontendDeveloper works 6.0 hours on Package deliverables\n",
      "BackendDeveloper works 10.0 hours on Design brochure\n",
      "BackendDeveloper works 30.0 hours on Coding\n",
      "BackendDeveloper works 12.0 hours on Develop implementation  plan\n",
      "DataScientist works 4.0 hours on Describe product\n",
      "DataScientist works 12.0 hours on Software design\n",
      "DataEngineer works 12.0 hours on System design\n",
      "DataEngineer works 18.0 hours on System testing\n",
      "DataEngineer works 15.0 hours on Survey potential market\n",
      "Total Expected time: 2808.0\n"
     ]
    }
   ],
   "source": [
    "# Solve the linear programming problem\n",
    "model.solve()\n",
    "\n",
    "# Print the results\n",
    "for worker in workers:\n",
    "    for task in activities:\n",
    "        if x[(worker, task)].varValue > 0:\n",
    "            print(f\"{worker} works {x[(worker, task)].varValue} hours on {task}\")\n",
    "\n",
    "print(f\"Total Expected time: {pulp.value(model.objective)}\")\n"
   ]
  },
  {
   "cell_type": "code",
   "execution_count": 40,
   "metadata": {},
   "outputs": [],
   "source": [
    "# Create the LP problem\n",
    "prob = LpProblem(\"Critical Path\", LpMinimize)\n"
   ]
  },
  {
   "cell_type": "code",
   "execution_count": 41,
   "metadata": {},
   "outputs": [],
   "source": [
    "# Create the LP variables\n",
    "start_times = {activity: LpVariable(f\"start_{activity}\", 0, None) for activity in activities_list}\n",
    "end_times = {activity: LpVariable(f\"end_{activity}\", 0, None) for activity in activities_list}\n"
   ]
  },
  {
   "cell_type": "code",
   "execution_count": 42,
   "metadata": {},
   "outputs": [],
   "source": [
    "# Add the constraints\n",
    "for activity in activities_list:\n",
    "    prob += end_times[activity] == start_times[activity] + activities[activity], f\"{activity}_duration\"\n",
    "    for predecessor in precedences[activity]:\n",
    "        prob += start_times[activity] >= end_times[predecessor], f\"{activity}_predecessor_{predecessor}\"\n"
   ]
  },
  {
   "cell_type": "code",
   "execution_count": 43,
   "metadata": {},
   "outputs": [
    {
     "name": "stdout",
     "output_type": "stream",
     "text": [
      "Welcome to the CBC MILP Solver \n",
      "Version: 2.10.3 \n",
      "Build Date: Dec 15 2019 \n",
      "\n",
      "command line - /Users/Jai/anaconda3/lib/python3.7/site-packages/pulp/apis/../solverdir/cbc/osx/64/cbc /var/folders/mg/gn4s4j_94_j8j560qd6pnnzm0000gp/T/3b7413bff42947a6aca1de4ad2d96d72-pulp.mps timeMode elapsed branch printingOptions all solution /var/folders/mg/gn4s4j_94_j8j560qd6pnnzm0000gp/T/3b7413bff42947a6aca1de4ad2d96d72-pulp.sol (default strategy 1)\n",
      "At line 2 NAME          MODEL\n",
      "At line 3 ROWS\n",
      "At line 40 COLUMNS\n",
      "At line 127 RHS\n",
      "At line 163 BOUNDS\n",
      "At line 164 ENDATA\n",
      "Problem MODEL has 35 rows, 32 columns and 70 elements\n",
      "Coin0008I MODEL read with 0 errors\n",
      "Option for timeMode changed from cpu to elapsed\n",
      "Presolve 0 (-35) rows, 0 (-32) columns and 0 (-70) elements\n",
      "Empty problem - 0 rows, 0 columns and 0 elements\n",
      "Optimal - objective value 869\n",
      "After Postsolve, objective 869, infeasibilities - dual 0 (0), primal 0 (0)\n",
      "Optimal objective 869 - 0 iterations time 0.002, Presolve 0.00\n",
      "Option for printingOptions changed from normal to all\n",
      "Total time (CPU seconds):       0.00   (Wallclock seconds):       0.00\n",
      "\n",
      "Critical Path time:\n",
      "Describe product starts at time 0\n",
      "Develop marketing strategy starts at time 0\n",
      "Develop product protoype starts at time 0\n",
      "Write client proposal ends at 111.0 days in duration\n",
      "\n",
      "Solution variable values:\n",
      "end_Coding = 54.0\n",
      "end_Describe_product = 4.0\n",
      "end_Design_brochure = 14.0\n",
      "end_Develop_implementation__plan = 105.0\n",
      "end_Develop_marketing_strategy = 12.0\n",
      "end_Develop_pricing_plan = 102.0\n",
      "end_Develop_product_protoype = 60.0\n",
      "end_Package_deliverables = 93.0\n",
      "end_Requirements_analysis = 12.0\n",
      "end_Software_design = 24.0\n",
      "end_Survey_potential_market = 29.0\n",
      "end_System_design = 24.0\n",
      "end_System_testing = 87.0\n",
      "end_Unit_testing = 69.0\n",
      "end_Write_client_proposal = 111.0\n",
      "end_Write_documentation = 69.0\n",
      "start_Coding = 24.0\n",
      "start_Describe_product = 0.0\n",
      "start_Design_brochure = 4.0\n",
      "start_Develop_implementation__plan = 93.0\n",
      "start_Develop_marketing_strategy = 0.0\n",
      "start_Develop_pricing_plan = 93.0\n",
      "start_Develop_product_protoype = 0.0\n",
      "start_Package_deliverables = 87.0\n",
      "start_Requirements_analysis = 4.0\n",
      "start_Software_design = 12.0\n",
      "start_Survey_potential_market = 14.0\n",
      "start_System_design = 12.0\n",
      "start_System_testing = 69.0\n",
      "start_Unit_testing = 54.0\n",
      "start_Write_client_proposal = 105.0\n",
      "start_Write_documentation = 54.0\n"
     ]
    }
   ],
   "source": [
    "# Set the objective function\n",
    "prob += lpSum([end_times[activity] for activity in activities_list]), \"minimize_end_times\"\n",
    "\n",
    "# Solve the LP problem\n",
    "status = prob.solve()\n",
    "\n",
    "# Print the results\n",
    "print(\"Critical Path time:\")\n",
    "for activity in activities_list:\n",
    "    if value(start_times[activity]) == 0:\n",
    "        print(f\"{activity} starts at time 0\")\n",
    "    if value(end_times[activity]) == max([value(end_times[activity]) for activity in activities_list]):\n",
    "        print(f\"{activity} ends at {value(end_times[activity])} days in duration\")\n",
    "\n",
    "# Print solution\n",
    "print(\"\\nSolution variable values:\")\n",
    "for var in prob.variables():\n",
    "    if var.name != \"_dummy\":\n",
    "        print(var.name, \"=\", var.varValue)"
   ]
  }
 ],
 "metadata": {
  "kernelspec": {
   "display_name": "base",
   "language": "python",
   "name": "python3"
  },
  "language_info": {
   "codemirror_mode": {
    "name": "ipython",
    "version": 3
   },
   "file_extension": ".py",
   "mimetype": "text/x-python",
   "name": "python",
   "nbconvert_exporter": "python",
   "pygments_lexer": "ipython3",
   "version": "3.7.3"
  },
  "orig_nbformat": 4
 },
 "nbformat": 4,
 "nbformat_minor": 2
}
