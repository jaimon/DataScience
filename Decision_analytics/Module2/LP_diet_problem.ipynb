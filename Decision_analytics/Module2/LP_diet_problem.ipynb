{
 "cells": [
  {
   "cell_type": "code",
   "execution_count": 1,
   "metadata": {},
   "outputs": [],
   "source": [
    "# import pulp\n",
    "from pulp import LpVariable, LpProblem, LpMaximize, LpStatus, value, LpMinimize\n",
    "import pulp\n"
   ]
  },
  {
   "cell_type": "code",
   "execution_count": 29,
   "metadata": {},
   "outputs": [
    {
     "name": "stderr",
     "output_type": "stream",
     "text": [
      "/Users/Jai/anaconda3/lib/python3.7/site-packages/pulp/pulp.py:1313: UserWarning: Spaces are not permitted in the name. Converted to '_'\n",
      "  warnings.warn(\"Spaces are not permitted in the name. Converted to '_'\")\n"
     ]
    }
   ],
   "source": [
    "problem = pulp.LpProblem(\"Minimum Cost Diet\", pulp.LpMinimize)\n",
    "\n",
    "# Define the decision variables\n",
    "x1 = pulp.LpVariable(name=\"Almonds\",lowBound=0) #Almonds\n",
    "x2 = pulp.LpVariable(name=\"Chicken\",lowBound=0) #Chicken\n",
    "x3 = pulp.LpVariable(name=\"Spinach\",lowBound=0) #Spinach\n",
    "x4 = pulp.LpVariable(name=\"Quinoa\",lowBound=0) #Quinoa\n",
    "x5 = pulp.LpVariable(name=\"Salmon\",lowBound=0) #Salmon"
   ]
  },
  {
   "cell_type": "code",
   "execution_count": 30,
   "metadata": {},
   "outputs": [],
   "source": [
    "# Define the constraints\n",
    "problem += 0 * x1 + 90 * x2 + 65 * x3 + 0 * x4 + 80 * x5 <= 5000 # Sodium\n",
    "problem += 170 * x1 + 250 * x2 + 20 * x3 + 170 * x4 + 160 * x5 >= 2000 # Energy\n",
    "problem += 7 * x1 + 19 * x2 + 2 * x3 + 6 * x4 + 23 * x5 >= 50 # Protein\n",
    "problem += 0 * x1 + 8 * x2 + 65 * x3 + 0 * x4 + 80 * x5 >= 20 # Vitamin D\n",
    "problem += 80 * x1 + 9 * x2 + 80 * x3 + 20 * x4 + 0 * x5 >= 1300 # Calcium\n",
    "problem += 1 * x1 + 0.8 * x2 + 2.3 * x3 + 2.1 * x4 + 0.72 * x5 >= 18 # Iron\n",
    "problem += 220 * x1 + 230 * x2 + 470 * x3 + 250 * x4 + 376 * x5 >= 4700 # Potassium"
   ]
  },
  {
   "cell_type": "code",
   "execution_count": 31,
   "metadata": {},
   "outputs": [],
   "source": [
    "# Define the objective function\n",
    "\n",
    "problem +=  0.75 * x1 + 1.032 * x2 + 1.145 * x3 + 0.5482 * x4 + 3.49 * x5"
   ]
  },
  {
   "cell_type": "code",
   "execution_count": 32,
   "metadata": {},
   "outputs": [
    {
     "name": "stdout",
     "output_type": "stream",
     "text": [
      "Welcome to the CBC MILP Solver \n",
      "Version: 2.10.3 \n",
      "Build Date: Dec 15 2019 \n",
      "\n",
      "command line - /Users/Jai/anaconda3/lib/python3.7/site-packages/pulp/apis/../solverdir/cbc/osx/64/cbc /var/folders/mg/gn4s4j_94_j8j560qd6pnnzm0000gp/T/252819f5a33140ec8e17dc140e16047a-pulp.mps timeMode elapsed branch printingOptions all solution /var/folders/mg/gn4s4j_94_j8j560qd6pnnzm0000gp/T/252819f5a33140ec8e17dc140e16047a-pulp.sol (default strategy 1)\n",
      "At line 2 NAME          MODEL\n",
      "At line 3 ROWS\n",
      "At line 12 COLUMNS\n",
      "At line 48 RHS\n",
      "At line 56 BOUNDS\n",
      "At line 57 ENDATA\n",
      "Problem MODEL has 7 rows, 5 columns and 30 elements\n",
      "Coin0008I MODEL read with 0 errors\n",
      "Option for timeMode changed from cpu to elapsed\n",
      "Presolve 7 (0) rows, 5 (0) columns and 30 (0) elements\n",
      "0  Obj 0 Primal inf 44.499999 (6)\n",
      "2  Obj 13.965\n",
      "Optimal - objective value 13.965\n",
      "Optimal objective 13.965 - 2 iterations time 0.002\n",
      "Option for printingOptions changed from normal to all\n",
      "Total time (CPU seconds):       0.00   (Wallclock seconds):       0.00\n",
      "\n",
      "Number of servings of Almonds: 11.75\n",
      "Number of servings of Chicken: 0.0\n",
      "Number of servings of Spinach: 4.5\n",
      "Number of servings of Quinoa: 0.0\n",
      "Number of servings of Salmon: 0.0\n",
      "Total Cost of Diet: $13.965\n"
     ]
    }
   ],
   "source": [
    "# Solve the Problem\n",
    "problem.solve()\n",
    "\n",
    "# Output the results\n",
    "if pulp.LpStatus[problem.status] == 'Optimal':\n",
    "    print(f\"Number of servings of Almonds: {x1.value()}\")\n",
    "    print(f\"Number of servings of Chicken: {x2.value()}\")\n",
    "    print(f\"Number of servings of Spinach: {x3.value()}\")\n",
    "    print(f\"Number of servings of Quinoa: {x4.value()}\")\n",
    "    print(f\"Number of servings of Salmon: {x5.value()}\")\n",
    "    print(f\"Total Cost of Diet: ${pulp.value(problem.objective)}\")\n",
    "else:\n",
    "\n",
    "    print(\"No optimal solution found.\")"
   ]
  },
  {
   "cell_type": "code",
   "execution_count": 63,
   "metadata": {},
   "outputs": [
    {
     "name": "stderr",
     "output_type": "stream",
     "text": [
      "/Users/Jai/anaconda3/lib/python3.7/site-packages/pulp/pulp.py:1313: UserWarning: Spaces are not permitted in the name. Converted to '_'\n",
      "  warnings.warn(\"Spaces are not permitted in the name. Converted to '_'\")\n"
     ]
    }
   ],
   "source": [
    "\n",
    "\n",
    "problem2 = pulp.LpProblem(\"Minimum Cost Diet\", pulp.LpMinimize)\n",
    "\n",
    "# Define the decision variables\n",
    "#x1 = pulp.LpVariable(name=\"Almonds\",lowBound=0) #Almonds\n",
    "x2 = pulp.LpVariable(name=\"Chicken\",lowBound=0) #Chicken\n",
    "x3 = pulp.LpVariable(name=\"Spinach\",lowBound=0) #Spinach\n",
    "x4 = pulp.LpVariable(name=\"Quinoa\",lowBound=0) #Quinoa\n",
    "x5 = pulp.LpVariable(name=\"Salmon\",lowBound=0) #Salmon\n",
    "\n",
    "\n",
    "#Add additional food items\n",
    "x6 = pulp.LpVariable(name=\"Rice\",lowBound=0) #Rice\n",
    "x7 = pulp.LpVariable(name=\"Waffles\",lowBound=0) #Waffles\n",
    "x8 = pulp.LpVariable(name=\"Yogurt\",lowBound=0) #Yogurt\n",
    "x9 = pulp.LpVariable(name=\"Bread\",lowBound=0)  #Bread\n",
    "\n",
    "\n",
    "#Add additional nutrients(Vitamin A and Vitamin C) to the constraints to see if it changes the total cost\n",
    "\n",
    "problem2 +=  90 * x2 + 65 * x3 + 0 * x4 + 80 * x5 + 0 * x6 + 390 * x7 + 75 * x8 + 170 * x9 <= 5000 # Sodium\n",
    "problem2 +=  250 * x2 + 20 * x3 + 170 * x4 + 160 * x5 + 170 * x6 + 250 * x7 + 140 * x8 + 130 * x9 >= 2000 # Energy\n",
    "problem2 +=  19 * x2 + 2 * x3 + 6 * x4 + 23 * x5 + 3 * x6 + 12 * x7 + 10 * x8 + 6 * x9 >= 50 # Protein\n",
    "problem2 +=  8 * x2 + 65 * x3 + 0 * x4 + 80 * x5 + 0 * x6 + 0 * x7 + 0 * x8 + 0 * x9 >= 20 # Vitamin D\n",
    "problem2 +=  9 * x2 + 80 * x3 + 20 * x4 + 0 * x5 + 10 * x6 + 50 * x7 + 0.1 * x8 + 30 * x9 >= 1300 # Calcium\n",
    "problem2 +=  0.8 * x2 + 2.3 * x3 + 2.3 * x3 + 2.1 * x4 + 0.72 * x5 + 0.4 * x6 + 1.4 * x7 + 0 * x8 + 1.3 * x9 >= 18 # Iron\n",
    "problem2 +=  230 * x2 + 470 * x3 + 376 * x5 + 50 * x6 + 130 * x7 + 0.04 * x8 + 40 * x9 >= 4700 # Potassium\n",
    "problem2 +=  0 * x2 + 0 * x3 + 0 * x4 + 58.10 * x5 + 0 * x6 + 0 * x7 + 0 * x8 + 0 * x9 >= 900 #Vitamin A\n",
    "problem2 +=  0 * x2 + 0 * x3 + 0 * x4 + 7.7 * x5 + 0 * x6 + 0 * x7 + 0 * x8 + 0 * x9 >= 90 #Vitamin C"
   ]
  },
  {
   "cell_type": "code",
   "execution_count": 64,
   "metadata": {},
   "outputs": [],
   "source": [
    "# Define the objective function after adding new food items and additional nutrients\n",
    "\n",
    "problem2 +=  1.032 * x2 + 1.145 * x3 +  0.5482 * x4  + 3.49 * x5 + 0.845 * x6 + 1.484 * x7 + 1.14 * x8 + 0.28 * x9"
   ]
  },
  {
   "cell_type": "code",
   "execution_count": 67,
   "metadata": {},
   "outputs": [
    {
     "name": "stdout",
     "output_type": "stream",
     "text": [
      "Welcome to the CBC MILP Solver \n",
      "Version: 2.10.3 \n",
      "Build Date: Dec 15 2019 \n",
      "\n",
      "command line - /Users/Jai/anaconda3/lib/python3.7/site-packages/pulp/apis/../solverdir/cbc/osx/64/cbc /var/folders/mg/gn4s4j_94_j8j560qd6pnnzm0000gp/T/b80198bc1dfc4e418bf070b79afa5d54-pulp.mps timeMode elapsed branch printingOptions all solution /var/folders/mg/gn4s4j_94_j8j560qd6pnnzm0000gp/T/b80198bc1dfc4e418bf070b79afa5d54-pulp.sol (default strategy 1)\n",
      "At line 2 NAME          MODEL\n",
      "At line 3 ROWS\n",
      "At line 14 COLUMNS\n",
      "At line 71 RHS\n",
      "At line 81 BOUNDS\n",
      "At line 82 ENDATA\n",
      "Problem MODEL has 9 rows, 8 columns and 48 elements\n",
      "Coin0008I MODEL read with 0 errors\n",
      "Option for timeMode changed from cpu to elapsed\n",
      "Presolve 3 (-6) rows, 8 (0) columns and 20 (-28) elements\n",
      "0  Obj 54.061962 Primal inf 314.4956 (2)\n",
      "2  Obj 69.894061\n",
      "Optimal - objective value 69.894061\n",
      "After Postsolve, objective 69.894061, infeasibilities - dual 0 (0), primal 0 (0)\n",
      "Optimal objective 69.89406085 - 2 iterations time 0.002, Presolve 0.00\n",
      "Option for prNumber of servings of Chicken: 0.0\n",
      "Number of servings of Spinach: 9.2856035\n",
      "Number of servings of Quinoa: 0.0\n",
      "Number of servings of Salmon: 15.490534\n",
      "Number of servings of Rice: 0.0\n",
      "Number of servings of Waffles: 0.0\n",
      "Number of servings of Yogurt: 0.0\n",
      "Number of servings of Bread: 18.571724\n",
      "Total Cost of Diet: $69.8940623875\n",
      "intingOptions changed from normal to all\n",
      "Total time (CPU seconds):       0.00   (Wallclock seconds):       0.00\n",
      "\n"
     ]
    }
   ],
   "source": [
    "# Solve the Problem\n",
    "problem2.solve()\n",
    "\n",
    "# Output the results\n",
    "if pulp.LpStatus[problem.status] == 'Optimal':\n",
    "    print(f\"Number of servings of Chicken: {x2.value()}\")\n",
    "    print(f\"Number of servings of Spinach: {x3.value()}\")\n",
    "    print(f\"Number of servings of Quinoa: {x4.value()}\")\n",
    "    print(f\"Number of servings of Salmon: {x5.value()}\")\n",
    "    print(f\"Number of servings of Rice: {x6.value()}\")\n",
    "    print(f\"Number of servings of Waffles: {x7.value()}\")\n",
    "    print(f\"Number of servings of Yogurt: {x8.value()}\")\n",
    "    print(f\"Number of servings of Bread: {x9.value()}\")\n",
    "    \n",
    "    print(f\"Total Cost of Diet: ${pulp.value(problem2.objective)}\")\n",
    "else:\n",
    "    print(\"No optimal solution found.\")"
   ]
  }
 ],
 "metadata": {
  "kernelspec": {
   "display_name": "base",
   "language": "python",
   "name": "python3"
  },
  "language_info": {
   "codemirror_mode": {
    "name": "ipython",
    "version": 3
   },
   "file_extension": ".py",
   "mimetype": "text/x-python",
   "name": "python",
   "nbconvert_exporter": "python",
   "pygments_lexer": "ipython3",
   "version": "3.7.3"
  },
  "orig_nbformat": 4
 },
 "nbformat": 4,
 "nbformat_minor": 2
}
