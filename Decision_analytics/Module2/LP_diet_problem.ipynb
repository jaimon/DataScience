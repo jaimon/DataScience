{
 "cells": [
  {
   "cell_type": "code",
   "execution_count": 9,
   "metadata": {},
   "outputs": [],
   "source": [
    "# import pulp\n",
    "from pulp import LpVariable, LpProblem, LpMaximize, LpStatus, value, LpMinimize\n",
    "import pulp\n"
   ]
  },
  {
   "cell_type": "code",
   "execution_count": 28,
   "metadata": {},
   "outputs": [
    {
     "name": "stderr",
     "output_type": "stream",
     "text": [
      "/Users/Jai/anaconda3/lib/python3.7/site-packages/pulp/pulp.py:1313: UserWarning: Spaces are not permitted in the name. Converted to '_'\n",
      "  warnings.warn(\"Spaces are not permitted in the name. Converted to '_'\")\n"
     ]
    }
   ],
   "source": [
    "problem = pulp.LpProblem(\"Minimum Cost Diet\", pulp.LpMinimize)\n",
    "\n",
    "# Define the decision variables\n",
    "x1 = pulp.LpVariable(name=\"Almonds\",lowBound=0) #Almonds\n",
    "x2 = pulp.LpVariable(name=\"Chicken\",lowBound=0) #Chicken\n",
    "x3 = pulp.LpVariable(name=\"Spinach\",lowBound=0) #Spinach\n",
    "x4 = pulp.LpVariable(name=\"Quinoa\",lowBound=0) #Quinoa\n",
    "x5 = pulp.LpVariable(name=\"Salmon\",lowBound=0) #Salmon"
   ]
  },
  {
   "cell_type": "code",
   "execution_count": 37,
   "metadata": {},
   "outputs": [],
   "source": [
    "# Define the constraints\n",
    "problem += 0 * x1 + 90 * x2 + 65 * x3 + 0 * x4 + 80 * x5 <= 5000 # Sodium\n",
    "problem += 170 * x1 + 250 * x2 + 20 * x3 + 170 * x4 + 160 * x5 >= 2000 # Energy\n",
    "problem += 7 * x1 + 19 * x2 + 2 * x3 + 6 * x4 + 23 * x5 >= 50 # Protein\n",
    "problem += 0 * x1 + 8 * x2 + 65 * x3 + 0 * x4 + 80 * x5 >= 20 # Vitamin D\n",
    "problem += 80 * x1 + 9 * x2 + 80 * x3 + 20 * x4 + 0 * x5 >= 1300 # Calcium\n",
    "problem += 1 * x1 + 0.8 * x2 + 2.3 * x3 + 2.1 * x4 + 0.72 * x5 >= 18 # Iron\n",
    "problem += 220 * x1 + 230 * x2 + 470 * x3 + 250 * x4 + 376 * x5 >= 4700 # Potassium"
   ]
  },
  {
   "cell_type": "code",
   "execution_count": 38,
   "metadata": {},
   "outputs": [
    {
     "name": "stderr",
     "output_type": "stream",
     "text": [
      "/Users/Jai/anaconda3/lib/python3.7/site-packages/pulp/pulp.py:1668: UserWarning: Overwriting previously set objective.\n",
      "  warnings.warn(\"Overwriting previously set objective.\")\n"
     ]
    }
   ],
   "source": [
    "# Define the objective function\n",
    "\n",
    "problem +=  0.75 * x1 + 1.032 * x2 + 1.145 * x3 + 1 * x4 + 3.49 * x5"
   ]
  },
  {
   "cell_type": "code",
   "execution_count": 40,
   "metadata": {},
   "outputs": [
    {
     "name": "stdout",
     "output_type": "stream",
     "text": [
      "Welcome to the CBC MILP Solver \n",
      "Version: 2.10.3 \n",
      "Build Date: Dec 15 2019 \n",
      "\n",
      "command line - /Users/Jai/anaconda3/lib/python3.7/site-packages/pulp/apis/../solverdir/cbc/osx/64/cbc /var/folders/mg/gn4s4j_94_j8j560qd6pnnzm0000gp/T/7d690c2e6ba34ab89146e4663c36c4a4-pulp.mps timeMode elapsed branch printingOptions all solution /var/folders/mg/gn4s4j_94_j8j560qd6pnnzm0000gp/T/7d690c2e6ba34ab89146e4663c36c4a4-pulp.sol (default strategy 1)\n",
      "At line 2 NAME          MODEL\n",
      "At line 3 ROWS\n",
      "At line 26 COLUMNS\n",
      "At line 127 RHS\n",
      "At line 149 BOUNDS\n",
      "At line 150 ENDATA\n",
      "Problem MODEL has 21 rows, 5 columns and 95 elements\n",
      "Coin0008I MODEL read with 0 errors\n",
      "Option for timeMode changed from cpu to elapsed\n",
      "Presolve 21 (0) rows, 5 (0) columns and 95 (0) elements\n",
      "0  Obj 0 Primal inf 77.025251 (18)\n",
      "2  Obj 13.965\n",
      "Optimal - objective value 13.965\n",
      "Optimal objective 13.965 - 2 iterations time 0.002\n",
      "Option for printingOptions changed from normal to all\n",
      "Total time (CPU seconds):       0.00   (Wallclock seconds):       0.06\n",
      "\n",
      "Number of servings of Almonds: 11.75\n",
      "Number of servings of Chicken: 0.0\n",
      "Number of servings of Spinach: 4.5\n",
      "Number of servings of Quinoa: 0.0\n",
      "Number of servings of Salmon: 0.0\n",
      "Total Cost of Diet: $13.965\n"
     ]
    }
   ],
   "source": [
    "# Solve the Problem\n",
    "problem.solve()\n",
    "\n",
    "# Output the results\n",
    "if pulp.LpStatus[problem.status] == 'Optimal':\n",
    "    print(f\"Number of servings of Almonds: {x1.value()}\")\n",
    "    print(f\"Number of servings of Chicken: {x2.value()}\")\n",
    "    print(f\"Number of servings of Spinach: {x3.value()}\")\n",
    "    print(f\"Number of servings of Quinoa: {x4.value()}\")\n",
    "    print(f\"Number of servings of Salmon: {x5.value()}\")\n",
    "    print(f\"Total Cost of Diet: ${pulp.value(problem.objective)}\")\n",
    "else:\n",
    "    print(\"No optimal solution found.\")"
   ]
  },
  {
   "cell_type": "code",
   "execution_count": 41,
   "metadata": {},
   "outputs": [],
   "source": [
    "#Add additional nutrients(Vitamin A and Vitamin C) to the constraints to see if it changes the total cost\n",
    "\n",
    "# Define the constraints\n",
    "problem += 0 * x1 + 31 * x2 + 573 * x3 + 0 * x4 + 58.10 * x5 >= 900 #Vitamin A\n",
    "problem += 0 * x1 + 0 * x2 + 8.4 * x3 + 0 * x4 + 7.7 * x5 >= 90 #Vitamin C"
   ]
  },
  {
   "cell_type": "code",
   "execution_count": 42,
   "metadata": {},
   "outputs": [
    {
     "name": "stdout",
     "output_type": "stream",
     "text": [
      "Welcome to the CBC MILP Solver \n",
      "Version: 2.10.3 \n",
      "Build Date: Dec 15 2019 \n",
      "\n",
      "command line - /Users/Jai/anaconda3/lib/python3.7/site-packages/pulp/apis/../solverdir/cbc/osx/64/cbc /var/folders/mg/gn4s4j_94_j8j560qd6pnnzm0000gp/T/0f1a74830adc4161909f0978d9be9107-pulp.mps timeMode elapsed branch printingOptions all solution /var/folders/mg/gn4s4j_94_j8j560qd6pnnzm0000gp/T/0f1a74830adc4161909f0978d9be9107-pulp.sol (default strategy 1)\n",
      "At line 2 NAME          MODEL\n",
      "At line 3 ROWS\n",
      "At line 28 COLUMNS\n",
      "At line 134 RHS\n",
      "At line 158 BOUNDS\n",
      "At line 159 ENDATA\n",
      "Problem MODEL has 23 rows, 5 columns and 100 elements\n",
      "Coin0008I MODEL read with 0 errors\n",
      "Option for timeMode changed from cpu to elapsed\n",
      "Presolve 23 (0) rows, 5 (0) columns and 100 (0) elements\n",
      "0  Obj 0 Primal inf 89.310217 (20)\n",
      "4  Obj 20.121686\n",
      "Optimal - objective value 20.121686\n",
      "Optimal objective 20.12168571 - 4 iterations time 0.002\n",
      "Option for printingOptions changed from normal to all\n",
      "Total time (CPU seconds):       0.00   (Wallclock seconds):       0.02\n",
      "\n",
      "Number of servings of Almonds: 10.0\n",
      "Number of servings of Chicken: 0.34285714\n",
      "Number of servings of Spinach: 10.714286\n",
      "Number of servings of Quinoa: 0.0\n",
      "Number of servings of Salmon: 0.0\n",
      "Total Cost of Diet: $20.12168603848\n"
     ]
    }
   ],
   "source": [
    "# Solve the Problem\n",
    "problem.solve()\n",
    "\n",
    "# Output the results\n",
    "if pulp.LpStatus[problem.status] == 'Optimal':\n",
    "    print(f\"Number of servings of Almonds: {x1.value()}\")\n",
    "    print(f\"Number of servings of Chicken: {x2.value()}\")\n",
    "    print(f\"Number of servings of Spinach: {x3.value()}\")\n",
    "    print(f\"Number of servings of Quinoa: {x4.value()}\")\n",
    "    print(f\"Number of servings of Salmon: {x5.value()}\")\n",
    "    print(f\"Total Cost of Diet: ${pulp.value(problem.objective)}\")\n",
    "else:\n",
    "    print(\"No optimal solution found.\")"
   ]
  }
 ],
 "metadata": {
  "kernelspec": {
   "display_name": "base",
   "language": "python",
   "name": "python3"
  },
  "language_info": {
   "codemirror_mode": {
    "name": "ipython",
    "version": 3
   },
   "file_extension": ".py",
   "mimetype": "text/x-python",
   "name": "python",
   "nbconvert_exporter": "python",
   "pygments_lexer": "ipython3",
   "version": "3.7.3"
  },
  "orig_nbformat": 4
 },
 "nbformat": 4,
 "nbformat_minor": 2
}
