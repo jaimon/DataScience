{
 "cells": [
  {
   "cell_type": "code",
   "execution_count": 25,
   "metadata": {},
   "outputs": [],
   "source": [
    "import psycopg2\n",
    "import time \n",
    "\n",
    "# Define your connection parameters\n",
    "params = {\n",
    "    'database': 'NYC_Jobs',\n",
    "    'user': 'postgres',\n",
    "    'password': 'jimbo',\n",
    "    'host': 'localhost',\n",
    "    'port': 5432\n",
    "}\n",
    "\n",
    "# CSV file path\n",
    "csv_file_path = '/Users/Jai/Documents/Git_remote/Decision_analytics/Module8/Jobs_NYC_Postings.csv'\n",
    "\n",
    "# PostgreSQL table name\n",
    "table_name = 'public.nyc_jobs_detail'\n",
    "\n",
    "# Connect to PostgreSQL\n",
    "conn = psycopg2.connect(**params)\n",
    "cur = conn.cursor()\n",
    "\n",
    "# Open the CSV file\n",
    "with open(csv_file_path, 'r') as f:\n",
    "    # Skip the header row\n",
    "    next(f)\n",
    "    # Use copy_expert to copy data from CSV to a table\n",
    "    cur.copy_expert(sql=f\"COPY {table_name} FROM STDIN WITH CSV\", file=f)\n",
    "\n",
    "# Commit changes\n",
    "conn.commit()\n",
    "\n",
    "\n",
    "\n",
    "# Close the cursor and connection\n",
    "cur.close()\n",
    "conn.close()"
   ]
  }
 ],
 "metadata": {
  "kernelspec": {
   "display_name": "base",
   "language": "python",
   "name": "python3"
  },
  "language_info": {
   "codemirror_mode": {
    "name": "ipython",
    "version": 3
   },
   "file_extension": ".py",
   "mimetype": "text/x-python",
   "name": "python",
   "nbconvert_exporter": "python",
   "pygments_lexer": "ipython3",
   "version": "3.7.3"
  },
  "orig_nbformat": 4
 },
 "nbformat": 4,
 "nbformat_minor": 2
}
