{
 "cells": [
  {
   "cell_type": "code",
   "execution_count": null,
   "metadata": {},
   "outputs": [],
   "source": [
    "drop table  public.electric_vehicle_pop_data;\n",
    "create table public.electric_vehicle_pop_data\n",
    "(\n",
    "VIN varchar(30),\n",
    "County\tvarchar(20),\n",
    "City  varchar(50),\n",
    "State  char(2),\t\n",
    "Postal_Code int,\n",
    "Model_Year int,\n",
    "Make  varchar(20),\n",
    "Model  varchar(50),\n",
    "Electric_Vehicle_Type  varchar(50),\n",
    "CAFV_Eligibility  varchar(100),\n",
    "Electric_Range  int,\n",
    "Base_MSRP int, \n",
    "Legislative_District int,\n",
    "DOL_Vehicle_ID varchar(20),\n",
    "Vehicle_Location varchar(50),\n",
    "Electric_Utility varchar(200),\n",
    "Census_Tract varchar(50)\n",
    ")\n",
    ";"
   ]
  },
  {
   "cell_type": "code",
   "execution_count": 1,
   "metadata": {},
   "outputs": [
    {
     "name": "stdout",
     "output_type": "stream",
     "text": [
      "Requirement already satisfied: psycopg2 in /Users/Jai/anaconda3/lib/python3.7/site-packages (2.7.7)\n",
      "Note: you may need to restart the kernel to use updated packages.\n"
     ]
    }
   ],
   "source": [
    "pip install psycopg2"
   ]
  },
  {
   "cell_type": "code",
   "execution_count": 18,
   "metadata": {},
   "outputs": [
    {
     "name": "stdout",
     "output_type": "stream",
     "text": [
      "Running query 1...\n"
     ]
    }
   ],
   "source": [
    "import psycopg2\n",
    "import time \n",
    "\n",
    "# Define your connection parameters\n",
    "params = {\n",
    "    'database': 'BEV',\n",
    "    'user': 'postgres',\n",
    "    'password': 'jimbo',\n",
    "    'host': 'localhost',\n",
    "    'port': 5432\n",
    "}\n",
    "\n",
    "# CSV file path\n",
    "csv_file_path = '/Users/Jai/Documents/Git_remote/Decision_analytics/Module8/Electric_Vehicle_Population_Data.csv'\n",
    "\n",
    "# PostgreSQL table name\n",
    "table_name = 'public.electric_vehicle_pop_data'\n",
    "\n",
    "# Connect to PostgreSQL\n",
    "conn = psycopg2.connect(**params)\n",
    "cur = conn.cursor()\n",
    "\n",
    "# Open the CSV file\n",
    "with open(csv_file_path, 'r') as f:\n",
    "    # Skip the header row\n",
    "    next(f)\n",
    "    # Use copy_expert to copy data from CSV to a table\n",
    "    cur.copy_expert(sql=f\"COPY {table_name} FROM STDIN WITH CSV\", file=f)\n",
    "\n",
    "# Commit changes\n",
    "conn.commit()\n",
    "\n",
    "# Define your queries\n",
    "queries = [\n",
    "    'SELECT * FROM public.electric_vehicle_pop_data;'\n",
    "    'SELECT COUNT(*),County FROM public.electric_vehicle_pop_data GROUP BY County;'\n",
    "    'SELECT * FROM public.electric_vehicle_pop_data WHERE County = \\'Yakima\\';'\n",
    "    'SELECT a.* FROM public.electric_vehicle_pop_data a LEFT JOIN public.electric_vehicle_pop_data b on a.vin= b.vin;'\n",
    "    'select distinct a.* from public.electric_vehicle_pop_data a;' \n",
    "]\n",
    "\n",
    "# Number of times you want to run each query\n",
    "num_runs = 100\n",
    "\n",
    "# Store the total time for each query\n",
    "total_times = [0] * len(queries)\n",
    "\n",
    "# Run each query num_executions times\n",
    "for i, query in enumerate(queries):\n",
    "    print(f\"Running query {i+1}...\")\n",
    "    for _ in range(num_runs):\n",
    "        start_time = time.time()  # Start timing\n",
    "        cur.execute(query)        # Execute the query\n",
    "        end_time = time.time()    # End timing\n",
    "\n",
    "        # Update the total time for this query\n",
    "        total_times[i] += (end_time - start_time)\n",
    "\n",
    "    # Calculate the average time for this query\n",
    "    average_time = total_times[i] / num_runs\n",
    "    print(f\"Average runtime for query {i+1}: {average_time:.4f} seconds\")\n",
    "\n",
    "\n",
    "# Close the cursor and connection\n",
    "cur.close()\n",
    "conn.close()"
   ]
  },
  {
   "cell_type": "code",
   "execution_count": null,
   "metadata": {},
   "outputs": [],
   "source": []
  }
 ],
 "metadata": {
  "kernelspec": {
   "display_name": "base",
   "language": "python",
   "name": "python3"
  },
  "language_info": {
   "codemirror_mode": {
    "name": "ipython",
    "version": 3
   },
   "file_extension": ".py",
   "mimetype": "text/x-python",
   "name": "python",
   "nbconvert_exporter": "python",
   "pygments_lexer": "ipython3",
   "version": "3.7.3"
  },
  "orig_nbformat": 4
 },
 "nbformat": 4,
 "nbformat_minor": 2
}
